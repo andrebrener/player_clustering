{
 "cells": [
  {
   "cell_type": "markdown",
   "metadata": {},
   "source": [
    "## Import Dependencies"
   ]
  },
  {
   "cell_type": "code",
   "execution_count": null,
   "metadata": {},
   "outputs": [],
   "source": [
    "from sklearn import cluster\n",
    "import pandas as pd\n",
    "import numpy as np\n",
    "from math import exp"
   ]
  },
  {
   "cell_type": "code",
   "execution_count": null,
   "metadata": {},
   "outputs": [],
   "source": [
    "df = pd.read_csv('players_season_stats.csv')"
   ]
  },
  {
   "cell_type": "code",
   "execution_count": null,
   "metadata": {},
   "outputs": [],
   "source": [
    "teams_df = pd.read_csv('teams_season_stats.csv')"
   ]
  },
  {
   "cell_type": "code",
   "execution_count": null,
   "metadata": {},
   "outputs": [],
   "source": [
    "def get_possession_df(teams_df):\n",
    "    teams_df['possession'] = teams_df['possession'] * 100\n",
    "    games_pos_df = teams_df[['team', 'possession']]\n",
    "    teams_pos_df = games_pos_df.groupby('team').agg(['sum', 'count']).reset_index()\n",
    "    teams_pos_df.columns = ['team_name', 'sum', 'count']\n",
    "    teams_pos_df['possession'] = teams_pos_df['sum'] / teams_pos_df['count']\n",
    "    return teams_pos_df"
   ]
  },
  {
   "cell_type": "code",
   "execution_count": null,
   "metadata": {},
   "outputs": [],
   "source": [
    "teams_pos_df = get_possession_df(teams_df)"
   ]
  },
  {
   "cell_type": "markdown",
   "metadata": {},
   "source": [
    "## Build dataset"
   ]
  },
  {
   "cell_type": "markdown",
   "metadata": {},
   "source": [
    "#### Take a look at the initial dataset"
   ]
  },
  {
   "cell_type": "code",
   "execution_count": null,
   "metadata": {},
   "outputs": [],
   "source": [
    "df.head()"
   ]
  },
  {
   "cell_type": "markdown",
   "metadata": {},
   "source": [
    "#### Filter by mins played"
   ]
  },
  {
   "cell_type": "code",
   "execution_count": null,
   "metadata": {},
   "outputs": [],
   "source": [
    "MINIMUM_MINUTES_PLAYED = 300"
   ]
  },
  {
   "cell_type": "code",
   "execution_count": null,
   "metadata": {},
   "outputs": [],
   "source": [
    "df = df[df['mins_played'] >= MINIMUM_MINUTES_PLAYED]"
   ]
  },
  {
   "cell_type": "markdown",
   "metadata": {},
   "source": [
    "#### Names + id"
   ]
  },
  {
   "cell_type": "code",
   "execution_count": null,
   "metadata": {},
   "outputs": [],
   "source": [
    "players_df = df[['name', 'id', 'team_name']]"
   ]
  },
  {
   "cell_type": "markdown",
   "metadata": {},
   "source": [
    "#### Define stats for each position"
   ]
  },
  {
   "cell_type": "code",
   "execution_count": null,
   "metadata": {},
   "outputs": [],
   "source": [
    "stats_dict = {}"
   ]
  },
  {
   "cell_type": "code",
   "execution_count": null,
   "metadata": {},
   "outputs": [],
   "source": [
    "stats_dict['total_stats'] = [\n",
    "    'goals', 'headed_goals', 'kicked_goals', 'game_winning_goals', 'pk_goals',\n",
    "    'assists', 'game_winning_assist', 'shots', 'shots_on_goal', 'crosses',\n",
    "    'passes', 'touches', 'interceptions', 'blocks', 'tackles', 'clears',\n",
    "    'goal_mouth_blocks', 'fouls_committed', 'fouls_suffered',\n",
    "    'shot_conversion', 'shot_accuracy', 'adj_tackles', 'adj_interceptions', 'adj_blocks'\n",
    "]\n",
    "\n",
    "stats_dict['F'] = [\n",
    "    'goals', 'headed_goals', 'kicked_goals',\n",
    "    'assists', 'shots', 'shots_on_goal', 'crosses',\n",
    "    'passes', 'touches', 'fouls_suffered',\n",
    "    'shot_conversion', 'shot_accuracy'\n",
    "]\n",
    "\n",
    "stats_dict['M'] = [\n",
    "    'goals', 'kicked_goals',\n",
    "    'assists', 'shots', 'shots_on_goal', 'crosses',\n",
    "    'passes', 'touches',\n",
    "    'goal_mouth_blocks', 'fouls_committed', 'fouls_suffered',\n",
    "    'shot_conversion', 'shot_accuracy', 'adj_tackles', 'adj_interceptions'\n",
    "]\n",
    "\n",
    "stats_dict['D'] = [\n",
    "    'goals', 'headed_goals', 'crosses',\n",
    "    'passes', 'touches', 'clears','goal_mouth_blocks', \n",
    "    'fouls_committed','adj_tackles', 'adj_interceptions', 'adj_blocks'\n",
    "]"
   ]
  },
  {
   "cell_type": "markdown",
   "metadata": {},
   "source": [
    "#### Build stats"
   ]
  },
  {
   "cell_type": "code",
   "execution_count": null,
   "metadata": {},
   "outputs": [],
   "source": [
    "def adjust_tackles(tack, pos):\n",
    "    return tack * 2 / (1 + exp(-0.1 * (pos - 50)))"
   ]
  },
  {
   "cell_type": "code",
   "execution_count": null,
   "metadata": {},
   "outputs": [],
   "source": [
    "def adjust_def_plays(df, teams_df, stats):\n",
    "    merged_df = pd.merge(df, teams_df, how='left')\n",
    "    for s in stats:\n",
    "        merged_df['adj_{}'.format(s)] = merged_df.apply(\n",
    "            lambda x: adjust_tackles(x[s], x['possession']), axis=1\n",
    "        )\n",
    "    return merged_df.fillna(0)"
   ]
  },
  {
   "cell_type": "code",
   "execution_count": null,
   "metadata": {},
   "outputs": [],
   "source": [
    "df['shot_accuracy'] = round(100 * df['shots_on_goal'] / df['shots']).fillna(0)\n",
    "df['shot_conversion'] = round(100 * df['goals'] / df['shots_on_goal']\n",
    "                              ).fillna(0)"
   ]
  },
  {
   "cell_type": "code",
   "execution_count": null,
   "metadata": {},
   "outputs": [],
   "source": [
    "adjusted_stats = ['tackles', 'interceptions', 'blocks']"
   ]
  },
  {
   "cell_type": "code",
   "execution_count": null,
   "metadata": {},
   "outputs": [],
   "source": [
    "df = adjust_def_plays(df, teams_pos_df, adjusted_stats)"
   ]
  },
  {
   "cell_type": "code",
   "execution_count": null,
   "metadata": {},
   "outputs": [],
   "source": [
    "stats_90 = [\n",
    "        s for s in stats_dict['total_stats'] if s not in ['shot_conversion', 'shot_accuracy']\n",
    "    ]"
   ]
  },
  {
   "cell_type": "code",
   "execution_count": null,
   "metadata": {},
   "outputs": [],
   "source": [
    "for s in stats_90:\n",
    "    df[s] = 90 * df[s] / df['mins_played']"
   ]
  },
  {
   "cell_type": "code",
   "execution_count": null,
   "metadata": {},
   "outputs": [],
   "source": [
    "df.head()"
   ]
  },
  {
   "cell_type": "markdown",
   "metadata": {},
   "source": [
    "#### Get dict with positions dfs"
   ]
  },
  {
   "cell_type": "code",
   "execution_count": null,
   "metadata": {},
   "outputs": [],
   "source": [
    "df_dict = {}\n",
    "\n",
    "for pos, pos_stats in stats_dict.items():\n",
    "    if pos != 'total_stats':\n",
    "        cols = ['id'] + pos_stats\n",
    "        df_dict[pos] = df[df['position'] == pos][cols].set_index('id').fillna(0)"
   ]
  },
  {
   "cell_type": "markdown",
   "metadata": {},
   "source": [
    "## Model"
   ]
  },
  {
   "cell_type": "markdown",
   "metadata": {},
   "source": [
    "###### K-means"
   ]
  },
  {
   "cell_type": "code",
   "execution_count": null,
   "metadata": {},
   "outputs": [],
   "source": [
    "k = 35"
   ]
  },
  {
   "cell_type": "code",
   "execution_count": null,
   "metadata": {},
   "outputs": [],
   "source": [
    "algorithm = cluster.KMeans(n_clusters=k)"
   ]
  },
  {
   "cell_type": "markdown",
   "metadata": {},
   "source": [
    "#### Models"
   ]
  },
  {
   "cell_type": "code",
   "execution_count": null,
   "metadata": {},
   "outputs": [],
   "source": [
    "def run_models(df_dict, clf):\n",
    "    results_dict = {}\n",
    "    for pos, pos_df in df_dict.items():\n",
    "        print('\\nPosition: {}'.format(pos))\n",
    "        mat = pos_df.values\n",
    "        results_dict[pos] = {}\n",
    "        clf.fit(mat)\n",
    "        res_df = pd.DataFrame([pos_df.index, clf.labels_]).T\n",
    "        res_df.columns = ['id', 'cat']\n",
    "        final_df = pd.merge(res_df, players_df)\n",
    "        results_dict[pos] = final_df\n",
    "    return results_dict"
   ]
  },
  {
   "cell_type": "code",
   "execution_count": null,
   "metadata": {},
   "outputs": [],
   "source": [
    "results_dict = run_models(df_dict, algorithm)"
   ]
  },
  {
   "cell_type": "markdown",
   "metadata": {},
   "source": [
    "## Results"
   ]
  },
  {
   "cell_type": "markdown",
   "metadata": {},
   "source": [
    "#### Specific Player"
   ]
  },
  {
   "cell_type": "code",
   "execution_count": null,
   "metadata": {},
   "outputs": [],
   "source": [
    "def get_player_cluster(players):\n",
    "    pos_cats = {}\n",
    "    for pos, pos_df in results_dict.items():\n",
    "        player_df = pos_df[pos_df['name'].isin(players)]\n",
    "        if not player_df.empty:\n",
    "            pos_cats[pos] = player_df['cat'].tolist()\n",
    "    return pos_cats"
   ]
  },
  {
   "cell_type": "code",
   "execution_count": null,
   "metadata": {},
   "outputs": [],
   "source": [
    "def print_sel_clusters(players, results_dict):\n",
    "    pos_cats = get_player_cluster(players)\n",
    "    for pos, cats in pos_cats.items():\n",
    "        print('\\nPosition: ' + pos)\n",
    "        res_df = results_dict[pos]\n",
    "        for cat in cats:\n",
    "            print('\\n', res_df[res_df['cat'] == cat])"
   ]
  },
  {
   "cell_type": "code",
   "execution_count": null,
   "metadata": {},
   "outputs": [],
   "source": [
    "players_to_show = ['Nicolas Blandi', 'Lucas Pratto', 'Cristian Pavon', 'Ricardo Centurion', 'Matias Caruzzo',\n",
    "                  'Leonardo Ponzio', 'Fernando Gago', 'Ignacio Scocco', 'Rodrigo Mora', 'Maximiliano Meza']"
   ]
  },
  {
   "cell_type": "code",
   "execution_count": null,
   "metadata": {},
   "outputs": [],
   "source": [
    "print_sel_clusters(players_to_show, results_dict)"
   ]
  },
  {
   "cell_type": "code",
   "execution_count": null,
   "metadata": {},
   "outputs": [],
   "source": []
  }
 ],
 "metadata": {
  "kernelspec": {
   "display_name": "Python 3",
   "language": "python",
   "name": "python3"
  },
  "language_info": {
   "codemirror_mode": {
    "name": "ipython",
    "version": 3
   },
   "file_extension": ".py",
   "mimetype": "text/x-python",
   "name": "python",
   "nbconvert_exporter": "python",
   "pygments_lexer": "ipython3",
   "version": "3.6.5"
  }
 },
 "nbformat": 4,
 "nbformat_minor": 2
}
