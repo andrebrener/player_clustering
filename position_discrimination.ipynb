{
 "cells": [
  {
   "cell_type": "markdown",
   "metadata": {},
   "source": [
    "## Import Dependencies"
   ]
  },
  {
   "cell_type": "code",
   "execution_count": 1,
   "metadata": {},
   "outputs": [],
   "source": [
    "from sklearn import cluster\n",
    "import pandas as pd\n",
    "import numpy as np\n",
    "from sklearn.metrics.cluster import normalized_mutual_info_score\n",
    "from sklearn.metrics.cluster import adjusted_rand_score"
   ]
  },
  {
   "cell_type": "code",
   "execution_count": 2,
   "metadata": {},
   "outputs": [
    {
     "name": "stderr",
     "output_type": "stream",
     "text": [
      "/usr/local/lib/python3.6/site-packages/IPython/core/interactiveshell.py:2785: DtypeWarning: Columns (23,35) have mixed types. Specify dtype option on import or set low_memory=False.\n",
      "  interactivity=interactivity, compiler=compiler, result=result)\n"
     ]
    }
   ],
   "source": [
    "df = pd.read_csv('CompleteDataset.csv').fillna(0)"
   ]
  },
  {
   "cell_type": "markdown",
   "metadata": {},
   "source": [
    "## Build dataset"
   ]
  },
  {
   "cell_type": "markdown",
   "metadata": {},
   "source": [
    "#### Take a look at the initial dataset"
   ]
  },
  {
   "cell_type": "code",
   "execution_count": 3,
   "metadata": {},
   "outputs": [
    {
     "data": {
      "text/html": [
       "<div>\n",
       "<style scoped>\n",
       "    .dataframe tbody tr th:only-of-type {\n",
       "        vertical-align: middle;\n",
       "    }\n",
       "\n",
       "    .dataframe tbody tr th {\n",
       "        vertical-align: top;\n",
       "    }\n",
       "\n",
       "    .dataframe thead th {\n",
       "        text-align: right;\n",
       "    }\n",
       "</style>\n",
       "<table border=\"1\" class=\"dataframe\">\n",
       "  <thead>\n",
       "    <tr style=\"text-align: right;\">\n",
       "      <th></th>\n",
       "      <th>Unnamed: 0</th>\n",
       "      <th>Name</th>\n",
       "      <th>Age</th>\n",
       "      <th>Photo</th>\n",
       "      <th>Nationality</th>\n",
       "      <th>Flag</th>\n",
       "      <th>Overall</th>\n",
       "      <th>Potential</th>\n",
       "      <th>Club</th>\n",
       "      <th>Club Logo</th>\n",
       "      <th>...</th>\n",
       "      <th>RB</th>\n",
       "      <th>RCB</th>\n",
       "      <th>RCM</th>\n",
       "      <th>RDM</th>\n",
       "      <th>RF</th>\n",
       "      <th>RM</th>\n",
       "      <th>RS</th>\n",
       "      <th>RW</th>\n",
       "      <th>RWB</th>\n",
       "      <th>ST</th>\n",
       "    </tr>\n",
       "  </thead>\n",
       "  <tbody>\n",
       "    <tr>\n",
       "      <th>0</th>\n",
       "      <td>0</td>\n",
       "      <td>Cristiano Ronaldo</td>\n",
       "      <td>32</td>\n",
       "      <td>https://cdn.sofifa.org/48/18/players/20801.png</td>\n",
       "      <td>Portugal</td>\n",
       "      <td>https://cdn.sofifa.org/flags/38.png</td>\n",
       "      <td>94</td>\n",
       "      <td>94</td>\n",
       "      <td>Real Madrid CF</td>\n",
       "      <td>https://cdn.sofifa.org/24/18/teams/243.png</td>\n",
       "      <td>...</td>\n",
       "      <td>61.0</td>\n",
       "      <td>53.0</td>\n",
       "      <td>82.0</td>\n",
       "      <td>62.0</td>\n",
       "      <td>91.0</td>\n",
       "      <td>89.0</td>\n",
       "      <td>92.0</td>\n",
       "      <td>91.0</td>\n",
       "      <td>66.0</td>\n",
       "      <td>92.0</td>\n",
       "    </tr>\n",
       "    <tr>\n",
       "      <th>1</th>\n",
       "      <td>1</td>\n",
       "      <td>L. Messi</td>\n",
       "      <td>30</td>\n",
       "      <td>https://cdn.sofifa.org/48/18/players/158023.png</td>\n",
       "      <td>Argentina</td>\n",
       "      <td>https://cdn.sofifa.org/flags/52.png</td>\n",
       "      <td>93</td>\n",
       "      <td>93</td>\n",
       "      <td>FC Barcelona</td>\n",
       "      <td>https://cdn.sofifa.org/24/18/teams/241.png</td>\n",
       "      <td>...</td>\n",
       "      <td>57.0</td>\n",
       "      <td>45.0</td>\n",
       "      <td>84.0</td>\n",
       "      <td>59.0</td>\n",
       "      <td>92.0</td>\n",
       "      <td>90.0</td>\n",
       "      <td>88.0</td>\n",
       "      <td>91.0</td>\n",
       "      <td>62.0</td>\n",
       "      <td>88.0</td>\n",
       "    </tr>\n",
       "    <tr>\n",
       "      <th>2</th>\n",
       "      <td>2</td>\n",
       "      <td>Neymar</td>\n",
       "      <td>25</td>\n",
       "      <td>https://cdn.sofifa.org/48/18/players/190871.png</td>\n",
       "      <td>Brazil</td>\n",
       "      <td>https://cdn.sofifa.org/flags/54.png</td>\n",
       "      <td>92</td>\n",
       "      <td>94</td>\n",
       "      <td>Paris Saint-Germain</td>\n",
       "      <td>https://cdn.sofifa.org/24/18/teams/73.png</td>\n",
       "      <td>...</td>\n",
       "      <td>59.0</td>\n",
       "      <td>46.0</td>\n",
       "      <td>79.0</td>\n",
       "      <td>59.0</td>\n",
       "      <td>88.0</td>\n",
       "      <td>87.0</td>\n",
       "      <td>84.0</td>\n",
       "      <td>89.0</td>\n",
       "      <td>64.0</td>\n",
       "      <td>84.0</td>\n",
       "    </tr>\n",
       "    <tr>\n",
       "      <th>3</th>\n",
       "      <td>3</td>\n",
       "      <td>L. Suárez</td>\n",
       "      <td>30</td>\n",
       "      <td>https://cdn.sofifa.org/48/18/players/176580.png</td>\n",
       "      <td>Uruguay</td>\n",
       "      <td>https://cdn.sofifa.org/flags/60.png</td>\n",
       "      <td>92</td>\n",
       "      <td>92</td>\n",
       "      <td>FC Barcelona</td>\n",
       "      <td>https://cdn.sofifa.org/24/18/teams/241.png</td>\n",
       "      <td>...</td>\n",
       "      <td>64.0</td>\n",
       "      <td>58.0</td>\n",
       "      <td>80.0</td>\n",
       "      <td>65.0</td>\n",
       "      <td>88.0</td>\n",
       "      <td>85.0</td>\n",
       "      <td>88.0</td>\n",
       "      <td>87.0</td>\n",
       "      <td>68.0</td>\n",
       "      <td>88.0</td>\n",
       "    </tr>\n",
       "    <tr>\n",
       "      <th>4</th>\n",
       "      <td>4</td>\n",
       "      <td>M. Neuer</td>\n",
       "      <td>31</td>\n",
       "      <td>https://cdn.sofifa.org/48/18/players/167495.png</td>\n",
       "      <td>Germany</td>\n",
       "      <td>https://cdn.sofifa.org/flags/21.png</td>\n",
       "      <td>92</td>\n",
       "      <td>92</td>\n",
       "      <td>FC Bayern Munich</td>\n",
       "      <td>https://cdn.sofifa.org/24/18/teams/21.png</td>\n",
       "      <td>...</td>\n",
       "      <td>0.0</td>\n",
       "      <td>0.0</td>\n",
       "      <td>0.0</td>\n",
       "      <td>0.0</td>\n",
       "      <td>0.0</td>\n",
       "      <td>0.0</td>\n",
       "      <td>0.0</td>\n",
       "      <td>0.0</td>\n",
       "      <td>0.0</td>\n",
       "      <td>0.0</td>\n",
       "    </tr>\n",
       "  </tbody>\n",
       "</table>\n",
       "<p>5 rows × 75 columns</p>\n",
       "</div>"
      ],
      "text/plain": [
       "   Unnamed: 0               Name  Age  \\\n",
       "0           0  Cristiano Ronaldo   32   \n",
       "1           1           L. Messi   30   \n",
       "2           2             Neymar   25   \n",
       "3           3          L. Suárez   30   \n",
       "4           4           M. Neuer   31   \n",
       "\n",
       "                                             Photo Nationality  \\\n",
       "0   https://cdn.sofifa.org/48/18/players/20801.png    Portugal   \n",
       "1  https://cdn.sofifa.org/48/18/players/158023.png   Argentina   \n",
       "2  https://cdn.sofifa.org/48/18/players/190871.png      Brazil   \n",
       "3  https://cdn.sofifa.org/48/18/players/176580.png     Uruguay   \n",
       "4  https://cdn.sofifa.org/48/18/players/167495.png     Germany   \n",
       "\n",
       "                                  Flag  Overall  Potential  \\\n",
       "0  https://cdn.sofifa.org/flags/38.png       94         94   \n",
       "1  https://cdn.sofifa.org/flags/52.png       93         93   \n",
       "2  https://cdn.sofifa.org/flags/54.png       92         94   \n",
       "3  https://cdn.sofifa.org/flags/60.png       92         92   \n",
       "4  https://cdn.sofifa.org/flags/21.png       92         92   \n",
       "\n",
       "                  Club                                   Club Logo  ...   \\\n",
       "0       Real Madrid CF  https://cdn.sofifa.org/24/18/teams/243.png  ...    \n",
       "1         FC Barcelona  https://cdn.sofifa.org/24/18/teams/241.png  ...    \n",
       "2  Paris Saint-Germain   https://cdn.sofifa.org/24/18/teams/73.png  ...    \n",
       "3         FC Barcelona  https://cdn.sofifa.org/24/18/teams/241.png  ...    \n",
       "4     FC Bayern Munich   https://cdn.sofifa.org/24/18/teams/21.png  ...    \n",
       "\n",
       "     RB   RCB   RCM   RDM    RF    RM    RS    RW   RWB    ST  \n",
       "0  61.0  53.0  82.0  62.0  91.0  89.0  92.0  91.0  66.0  92.0  \n",
       "1  57.0  45.0  84.0  59.0  92.0  90.0  88.0  91.0  62.0  88.0  \n",
       "2  59.0  46.0  79.0  59.0  88.0  87.0  84.0  89.0  64.0  84.0  \n",
       "3  64.0  58.0  80.0  65.0  88.0  85.0  88.0  87.0  68.0  88.0  \n",
       "4   0.0   0.0   0.0   0.0   0.0   0.0   0.0   0.0   0.0   0.0  \n",
       "\n",
       "[5 rows x 75 columns]"
      ]
     },
     "execution_count": 3,
     "metadata": {},
     "output_type": "execute_result"
    }
   ],
   "source": [
    "df.head()"
   ]
  },
  {
   "cell_type": "markdown",
   "metadata": {},
   "source": [
    "#### Check for duplicates"
   ]
  },
  {
   "cell_type": "code",
   "execution_count": 4,
   "metadata": {},
   "outputs": [
    {
     "data": {
      "text/plain": [
       "210679    2\n",
       "212153    2\n",
       "201878    2\n",
       "225199    2\n",
       "204923    2\n",
       "Name: ID, dtype: int64"
      ]
     },
     "execution_count": 4,
     "metadata": {},
     "output_type": "execute_result"
    }
   ],
   "source": [
    "df['ID'].value_counts().head()"
   ]
  },
  {
   "cell_type": "markdown",
   "metadata": {},
   "source": [
    "#### Remove duplicates"
   ]
  },
  {
   "cell_type": "code",
   "execution_count": 5,
   "metadata": {},
   "outputs": [],
   "source": [
    "df.drop(df.columns[0],axis=1,inplace=True)"
   ]
  },
  {
   "cell_type": "code",
   "execution_count": 6,
   "metadata": {},
   "outputs": [
    {
     "data": {
      "text/plain": [
       "(17981, 74)"
      ]
     },
     "execution_count": 6,
     "metadata": {},
     "output_type": "execute_result"
    }
   ],
   "source": [
    "df.shape"
   ]
  },
  {
   "cell_type": "code",
   "execution_count": 7,
   "metadata": {},
   "outputs": [],
   "source": [
    "df = df.drop_duplicates()"
   ]
  },
  {
   "cell_type": "code",
   "execution_count": 9,
   "metadata": {},
   "outputs": [
    {
     "data": {
      "text/plain": [
       "231423    1\n",
       "213661    1\n",
       "237430    1\n",
       "230037    1\n",
       "223896    1\n",
       "Name: ID, dtype: int64"
      ]
     },
     "execution_count": 9,
     "metadata": {},
     "output_type": "execute_result"
    }
   ],
   "source": [
    "df['ID'].value_counts().head()"
   ]
  },
  {
   "cell_type": "code",
   "execution_count": 8,
   "metadata": {},
   "outputs": [
    {
     "data": {
      "text/plain": [
       "(17929, 74)"
      ]
     },
     "execution_count": 8,
     "metadata": {},
     "output_type": "execute_result"
    }
   ],
   "source": [
    "df.shape"
   ]
  },
  {
   "cell_type": "code",
   "execution_count": 10,
   "metadata": {},
   "outputs": [
    {
     "data": {
      "text/plain": [
       "Index(['Name', 'Age', 'Photo', 'Nationality', 'Flag', 'Overall', 'Potential',\n",
       "       'Club', 'Club Logo', 'Value', 'Wage', 'Special', 'Acceleration',\n",
       "       'Aggression', 'Agility', 'Balance', 'Ball control', 'Composure',\n",
       "       'Crossing', 'Curve', 'Dribbling', 'Finishing', 'Free kick accuracy',\n",
       "       'GK diving', 'GK handling', 'GK kicking', 'GK positioning',\n",
       "       'GK reflexes', 'Heading accuracy', 'Interceptions', 'Jumping',\n",
       "       'Long passing', 'Long shots', 'Marking', 'Penalties', 'Positioning',\n",
       "       'Reactions', 'Short passing', 'Shot power', 'Sliding tackle',\n",
       "       'Sprint speed', 'Stamina', 'Standing tackle', 'Strength', 'Vision',\n",
       "       'Volleys', 'CAM', 'CB', 'CDM', 'CF', 'CM', 'ID', 'LAM', 'LB', 'LCB',\n",
       "       'LCM', 'LDM', 'LF', 'LM', 'LS', 'LW', 'LWB', 'Preferred Positions',\n",
       "       'RAM', 'RB', 'RCB', 'RCM', 'RDM', 'RF', 'RM', 'RS', 'RW', 'RWB', 'ST'],\n",
       "      dtype='object')"
      ]
     },
     "execution_count": 10,
     "metadata": {},
     "output_type": "execute_result"
    }
   ],
   "source": [
    "df.columns"
   ]
  },
  {
   "cell_type": "code",
   "execution_count": 11,
   "metadata": {},
   "outputs": [],
   "source": [
    "df['pref_pos'] = df['Preferred Positions'].str.split()"
   ]
  },
  {
   "cell_type": "markdown",
   "metadata": {},
   "source": [
    "#### Names + id"
   ]
  },
  {
   "cell_type": "code",
   "execution_count": 12,
   "metadata": {},
   "outputs": [],
   "source": [
    "players_df = df[['Name', 'ID']]"
   ]
  },
  {
   "cell_type": "markdown",
   "metadata": {},
   "source": [
    "#### Create positions dictionary"
   ]
  },
  {
   "cell_type": "code",
   "execution_count": 13,
   "metadata": {},
   "outputs": [],
   "source": [
    "pos_dict = {\n",
    "    'fw': ['ST', 'LW', 'RW', 'SS'],\n",
    "    'gk': ['GK'],\n",
    "    'mf': ['DM', 'CM', 'CDM', 'CAM', 'RM', 'LM',],\n",
    "    'def': ['CB', 'RB', 'LB', 'RWB', 'LWB']\n",
    "}"
   ]
  },
  {
   "cell_type": "markdown",
   "metadata": {},
   "source": [
    "#### Insert positions"
   ]
  },
  {
   "cell_type": "code",
   "execution_count": 14,
   "metadata": {},
   "outputs": [],
   "source": [
    "def get_positions(pos_list, pos_dict_list):\n",
    "    for pos in pos_dict_list:\n",
    "        if pos in pos_list:\n",
    "            return 1"
   ]
  },
  {
   "cell_type": "code",
   "execution_count": 15,
   "metadata": {},
   "outputs": [],
   "source": [
    "def insert_positions(df, pos_dict):\n",
    "    for pos, pos_dict_list in pos_dict.items():\n",
    "        df[pos] = df['pref_pos'].apply(lambda x: get_positions(x, pos_dict_list)).fillna(0)"
   ]
  },
  {
   "cell_type": "code",
   "execution_count": 16,
   "metadata": {},
   "outputs": [],
   "source": [
    "insert_positions(df, pos_dict)"
   ]
  },
  {
   "cell_type": "code",
   "execution_count": 17,
   "metadata": {},
   "outputs": [
    {
     "data": {
      "text/html": [
       "<div>\n",
       "<style scoped>\n",
       "    .dataframe tbody tr th:only-of-type {\n",
       "        vertical-align: middle;\n",
       "    }\n",
       "\n",
       "    .dataframe tbody tr th {\n",
       "        vertical-align: top;\n",
       "    }\n",
       "\n",
       "    .dataframe thead th {\n",
       "        text-align: right;\n",
       "    }\n",
       "</style>\n",
       "<table border=\"1\" class=\"dataframe\">\n",
       "  <thead>\n",
       "    <tr style=\"text-align: right;\">\n",
       "      <th></th>\n",
       "      <th>pref_pos</th>\n",
       "      <th>fw</th>\n",
       "      <th>gk</th>\n",
       "      <th>mf</th>\n",
       "      <th>def</th>\n",
       "    </tr>\n",
       "  </thead>\n",
       "  <tbody>\n",
       "    <tr>\n",
       "      <th>0</th>\n",
       "      <td>[ST, LW]</td>\n",
       "      <td>1.0</td>\n",
       "      <td>0.0</td>\n",
       "      <td>0.0</td>\n",
       "      <td>0.0</td>\n",
       "    </tr>\n",
       "    <tr>\n",
       "      <th>1</th>\n",
       "      <td>[RW]</td>\n",
       "      <td>1.0</td>\n",
       "      <td>0.0</td>\n",
       "      <td>0.0</td>\n",
       "      <td>0.0</td>\n",
       "    </tr>\n",
       "    <tr>\n",
       "      <th>2</th>\n",
       "      <td>[LW]</td>\n",
       "      <td>1.0</td>\n",
       "      <td>0.0</td>\n",
       "      <td>0.0</td>\n",
       "      <td>0.0</td>\n",
       "    </tr>\n",
       "    <tr>\n",
       "      <th>3</th>\n",
       "      <td>[ST]</td>\n",
       "      <td>1.0</td>\n",
       "      <td>0.0</td>\n",
       "      <td>0.0</td>\n",
       "      <td>0.0</td>\n",
       "    </tr>\n",
       "    <tr>\n",
       "      <th>4</th>\n",
       "      <td>[GK]</td>\n",
       "      <td>0.0</td>\n",
       "      <td>1.0</td>\n",
       "      <td>0.0</td>\n",
       "      <td>0.0</td>\n",
       "    </tr>\n",
       "  </tbody>\n",
       "</table>\n",
       "</div>"
      ],
      "text/plain": [
       "   pref_pos   fw   gk   mf  def\n",
       "0  [ST, LW]  1.0  0.0  0.0  0.0\n",
       "1      [RW]  1.0  0.0  0.0  0.0\n",
       "2      [LW]  1.0  0.0  0.0  0.0\n",
       "3      [ST]  1.0  0.0  0.0  0.0\n",
       "4      [GK]  0.0  1.0  0.0  0.0"
      ]
     },
     "execution_count": 17,
     "metadata": {},
     "output_type": "execute_result"
    }
   ],
   "source": [
    "df[['pref_pos', 'fw', 'gk', 'mf', 'def']].head()"
   ]
  },
  {
   "cell_type": "markdown",
   "metadata": {},
   "source": [
    "#### Define stats for each position"
   ]
  },
  {
   "cell_type": "code",
   "execution_count": 18,
   "metadata": {},
   "outputs": [],
   "source": [
    "global_stats = ['CAM', 'CB', 'CDM', 'CF', 'CM',\n",
    "       'LAM', 'LB', 'LCB', 'LCM', 'LDM', 'LF', 'LM', 'LS', 'LW', 'LWB',\n",
    "       'RAM', 'RB', 'RCB', 'RCM', 'RDM', 'RF', 'RM',\n",
    "       'RS', 'RW', 'RWB', 'ST']"
   ]
  },
  {
   "cell_type": "code",
   "execution_count": 19,
   "metadata": {},
   "outputs": [],
   "source": [
    "stats_dict = {}\n",
    "\n",
    "stats_dict['fw'] = [\n",
    "    'Acceleration', 'Aggression', 'Agility', 'Balance', 'Ball control', 'Composure', 'Curve', 'Dribbling', \n",
    "    'Finishing', 'Heading accuracy', 'Jumping', 'Long shots','Positioning', 'Crossing', 'Long passing', \n",
    "    'Shot power', 'Sprint speed', 'Stamina', 'Strength', 'Vision'\n",
    "]\n",
    "\n",
    "stats_dict['mf'] = [\n",
    "    'Acceleration', 'Aggression', 'Agility', 'Balance', 'Ball control', 'Composure', 'Curve', 'Dribbling',\n",
    "    'Long shots', 'Positioning', 'Crossing', 'Long passing', 'Shot power', 'Sprint speed', 'Stamina', \n",
    "    'Strength', 'Vision', 'Sliding tackle', 'Standing tackle', 'Marking'\n",
    "]\n",
    "\n",
    "stats_dict['def'] = [\n",
    "    'Acceleration', 'Aggression', 'Agility', 'Balance', 'Ball control', 'Positioning', 'Long passing',\n",
    "    'Sprint speed', 'Stamina', 'Strength', 'Vision', 'Sliding tackle', 'Standing tackle', 'Marking',\n",
    "    'Jumping', 'Heading accuracy'\n",
    "]\n",
    "\n",
    "stats_dict['gk'] = [col for col in df.columns if 'GK' in col] + ['Reactions', 'Volleys']"
   ]
  },
  {
   "cell_type": "markdown",
   "metadata": {},
   "source": [
    "#### Get dict with positions dfs"
   ]
  },
  {
   "cell_type": "code",
   "execution_count": 20,
   "metadata": {},
   "outputs": [],
   "source": [
    "df_dict = {}\n",
    "\n",
    "for pos, pos_stats in stats_dict.items():\n",
    "    cols = ['ID'] + pos_stats + global_stats\n",
    "    df_dict[pos] = df[df[pos] > 0][cols].set_index('ID').fillna(0)"
   ]
  },
  {
   "cell_type": "markdown",
   "metadata": {},
   "source": [
    "#### Clean dataset"
   ]
  },
  {
   "cell_type": "code",
   "execution_count": 21,
   "metadata": {},
   "outputs": [],
   "source": [
    "def remove_signs(val):\n",
    "    if isinstance(val, int) or isinstance(val, float):\n",
    "        return val\n",
    "    if '+' in val:\n",
    "        vals = val.split('+')\n",
    "        return int(vals[0]) + int(vals[1])\n",
    "    elif '-' in val:\n",
    "        vals = val.split('-')\n",
    "        return int(vals[0]) + int(vals[1])\n",
    "    else:\n",
    "        return int(val)"
   ]
  },
  {
   "cell_type": "code",
   "execution_count": 22,
   "metadata": {},
   "outputs": [],
   "source": [
    "for pos, pos_df in df_dict.items():\n",
    "    for col in pos_df.columns:\n",
    "        pos_df[col] = pos_df[col].apply(remove_signs)"
   ]
  },
  {
   "cell_type": "markdown",
   "metadata": {},
   "source": [
    "## Model"
   ]
  },
  {
   "cell_type": "code",
   "execution_count": 37,
   "metadata": {},
   "outputs": [],
   "source": [
    "algorithms = {}"
   ]
  },
  {
   "cell_type": "markdown",
   "metadata": {},
   "source": [
    "###### K-means"
   ]
  },
  {
   "cell_type": "code",
   "execution_count": 38,
   "metadata": {},
   "outputs": [],
   "source": [
    "k = 400"
   ]
  },
  {
   "cell_type": "code",
   "execution_count": 39,
   "metadata": {},
   "outputs": [],
   "source": [
    "algorithms['kmeans_{}'.format(k)] = cluster.KMeans(n_clusters=k)"
   ]
  },
  {
   "cell_type": "code",
   "execution_count": 40,
   "metadata": {},
   "outputs": [],
   "source": [
    "#for k in range(10, 110, 10):\n",
    "#    algorithms['kmeans_{}'.format(k)] = cluster.KMeans(n_clusters=k)\n",
    "#    algorithms['agglom_{}'.format(k)] = cluster.AgglomerativeClustering(n_clusters=k)\n",
    "#    algorithms['spectral_{}'.format(k)] = cluster.SpectralClustering(n_clusters=k)"
   ]
  },
  {
   "cell_type": "code",
   "execution_count": 41,
   "metadata": {},
   "outputs": [],
   "source": [
    "#for d in np.arange(0.5, 1.05, 0.1):\n",
    "#    algorithms['affinity_{}'.format(d)] = cluster.AffinityPropagation(damping=0.6)"
   ]
  },
  {
   "cell_type": "markdown",
   "metadata": {},
   "source": [
    "#### Models"
   ]
  },
  {
   "cell_type": "code",
   "execution_count": 47,
   "metadata": {},
   "outputs": [],
   "source": [
    "def run_models(df_dict):\n",
    "    results_dict = {}\n",
    "    for pos, pos_df in df_dict.items():\n",
    "        print('\\nPosition: {}'.format(pos))\n",
    "        mat = pos_df.values\n",
    "        results_dict[pos] = {}\n",
    "        for model, clf in algorithms.items():\n",
    "            print(model)\n",
    "            clf.fit(mat)\n",
    "            res_df = pd.DataFrame([pos_df.index, clf.labels_]).T\n",
    "            res_df.columns = ['ID', 'cat']\n",
    "            final_df = pd.merge(res_df, players_df)\n",
    "            results_dict[pos][model] = final_df\n",
    "    return results_dict"
   ]
  },
  {
   "cell_type": "code",
   "execution_count": 55,
   "metadata": {},
   "outputs": [
    {
     "name": "stdout",
     "output_type": "stream",
     "text": [
      "\n",
      "Position: fw\n",
      "kmeans_400\n",
      "\n",
      "Position: mf\n",
      "kmeans_400\n",
      "\n",
      "Position: def\n",
      "kmeans_400\n",
      "\n",
      "Position: gk\n",
      "kmeans_400\n"
     ]
    }
   ],
   "source": [
    "results_dict = run_models(df_dict)"
   ]
  },
  {
   "cell_type": "markdown",
   "metadata": {},
   "source": [
    "## Results"
   ]
  },
  {
   "cell_type": "code",
   "execution_count": 56,
   "metadata": {},
   "outputs": [],
   "source": [
    "def show_clusters(results_dict, max_cat=15):\n",
    "    for pos, model_dict in results_dict.items():\n",
    "        print('\\nPosition: {}'.format(pos))\n",
    "        for model, model_df in model_dict.items():\n",
    "            print('Model: {}'.format(model))\n",
    "            main_cats = model_df.head(max_cat)['cat'].unique()\n",
    "            for c in main_cats:\n",
    "                print('\\nCat: {}'.format(c))\n",
    "                print(model_df[model_df['cat'] == c])"
   ]
  },
  {
   "cell_type": "code",
   "execution_count": 57,
   "metadata": {
    "scrolled": false
   },
   "outputs": [
    {
     "name": "stdout",
     "output_type": "stream",
     "text": [
      "\n",
      "Position: fw\n",
      "Model: kmeans_400\n",
      "\n",
      "Cat: 206\n",
      "       ID  cat               Name\n",
      "0   20801  206  Cristiano Ronaldo\n",
      "3  176580  206          L. Suárez\n",
      "8  173731  206            G. Bale\n",
      "\n",
      "Cat: 216\n",
      "        ID  cat       Name\n",
      "1   158023  216   L. Messi\n",
      "2   190871  216     Neymar\n",
      "5   183277  216  E. Hazard\n",
      "10  211110  216  P. Dybala\n",
      "15    9014  216  A. Robben\n",
      "21  188350  216    M. Reus\n",
      "\n",
      "Cat: 29\n",
      "         ID  cat            Name\n",
      "4    188545   29  R. Lewandowski\n",
      "14    41236   29  Z. Ibrahimović\n",
      "16   179813   29       E. Cavani\n",
      "17   202126   29         H. Kane\n",
      "18   192505   29       R. Lukaku\n",
      "22   179844   29     Diego Costa\n",
      "112  153244   29       A. Gignac\n",
      "\n",
      "Cat: 220\n",
      "         ID  cat             Name\n",
      "6    167664  220       G. Higuaín\n",
      "24   165153  220       K. Benzema\n",
      "34   201153  220           Morata\n",
      "77   186627  220     M. Balotelli\n",
      "82   171833  220     D. Sturridge\n",
      "90   216354  220      A. Kramarić\n",
      "114   49369  220  Fernando Torres\n",
      "131  187491  220        F. Smolov\n",
      "165  198683  220    M. Gabbiadini\n",
      "269  164985  220       C. Théréau\n",
      "295  234236  220        P. Schick\n",
      "317  199737  220   Wilson Eduardo\n",
      "\n",
      "Cat: 221\n",
      "        ID  cat             Name\n",
      "7   184941  221       A. Sánchez\n",
      "28  192883  221    H. Mkhitaryan\n",
      "29  183898  221      A. Di María\n",
      "35  189505  221            Pedro\n",
      "46  201942  221  Roberto Firmino\n",
      "65  208618  221    Lucas Vázquez\n",
      "75  193348  221       X. Shaqiri\n",
      "79  183574  221         M. Kruse\n",
      "85  144622  221          Raffael\n",
      "\n",
      "Cat: 121\n",
      "         ID  cat           Name\n",
      "9    153079  121      S. Agüero\n",
      "47   192629  121     Iago Aspas\n",
      "51   185020  121  José Callejón\n",
      "64   208808  121      Q. Promes\n",
      "73   200104  121         H. Son\n",
      "83   169416  121        C. Vela\n",
      "88   230666  121  Gabriel Jesus\n",
      "92   210935  121     D. Berardi\n",
      "134  178311  121           Eder\n",
      "159  201858  121     N. Sansone\n",
      "\n",
      "Cat: 119\n",
      "         ID  cat           Name\n",
      "11   194765  119   A. Griezmann\n",
      "55   176600  119     K. Gameiro\n",
      "97   199451  119  W. Ben Yedder\n",
      "121  203280  119     V. Germain\n",
      "154  207441  119      L. Vietto\n",
      "222  152999  119     R. Palacio\n",
      "243  210950  119   P. De Blasis\n",
      "\n",
      "Cat: 314\n",
      "        ID  cat           Name\n",
      "12  188567  314  P. Aubameyang\n",
      "19  189596  314      T. Müller\n",
      "27  193301  314   A. Lacazette\n",
      "42  231747  314      K. Mbappé\n",
      "63  211300  314     A. Martial\n",
      "\n",
      "Cat: 313\n",
      "        ID  cat           Name\n",
      "13  176635  313        M. Özil\n",
      "30  220834  313  Marco Asensio\n",
      "38  177388  313       D. Payet\n",
      "\n",
      "Position: mf\n",
      "Model: kmeans_400\n",
      "\n",
      "Cat: 138\n",
      "         ID  cat               Name\n",
      "0    182521  138           T. Kroos\n",
      "63   189513  138             Parejo\n",
      "127  177600  138              Beñat\n",
      "177  171579  138        Raúl García\n",
      "180  121944  138  B. Schweinsteiger\n",
      "185  216393  138       Y. Tielemans\n",
      "325  170797  138           N. Şahin\n",
      "327  167943  138          Y. Cabaye\n",
      "339      80  138       E. Belözoğlu\n",
      "498  202087  138            J. Geis\n",
      "552  192202  138        Bruno César\n",
      "755  198648  138          B. Natcho\n",
      "\n",
      "Cat: 162\n",
      "        ID  cat             Name\n",
      "1   192985  162     K. De Bruyne\n",
      "2   184941  162       A. Sánchez\n",
      "21  189596  162        T. Müller\n",
      "44  181458  162       I. Perišić\n",
      "57  201942  162  Roberto Firmino\n",
      "94  208618  162    Lucas Vázquez\n",
      "\n",
      "Cat: 52\n",
      "         ID  cat            Name\n",
      "3    177003   52       L. Modrić\n",
      "13   171877   52       M. Hamšík\n",
      "14   168651   52      I. Rakitić\n",
      "32   186942   52     I. Gündoğan\n",
      "33   180206   52       M. Pjanić\n",
      "38   211117   52         D. Alli\n",
      "40   193747   52            Koke\n",
      "50   220971   52        N. Keïta\n",
      "51   213565   52        T. Lemar\n",
      "52   212814   52      João Mário\n",
      "65   189125   52  G. Bonaventura\n",
      "71   180819   52      A. Lallana\n",
      "72   178562   52       E. Banega\n",
      "97   207410   52      M. Kovačić\n",
      "98   206545   52  Manu Trigueros\n",
      "109  197965   52           Pizzi\n",
      "118  187072   52       L. Stindl\n",
      "119  186561   52       A. Ramsey\n",
      "126  181291   52    G. Wijnaldum\n",
      "133  143745   52        A. Turan\n",
      "166  189461   52     J. Wilshere\n",
      "211  193361   52      R. Soriano\n",
      "328  159240   52  M. Krohn-Dehli\n",
      "\n",
      "Cat: 144\n",
      "         ID  cat             Name\n",
      "4    211110  144        P. Dybala\n",
      "7      9014  144        A. Robben\n",
      "28   156616  144        F. Ribéry\n",
      "29   208418  144      Y. Carrasco\n",
      "49   231443  144       O. Dembélé\n",
      "54   208448  144      E. Forsberg\n",
      "80   139068  144             Nani\n",
      "82    20775  144         Quaresma\n",
      "89   212404  144  F. Bernardeschi\n",
      "93   208808  144        Q. Promes\n",
      "99   204970  144       F. Thauvin\n",
      "106  200104  144           H. Son\n",
      "113  190483  144    Douglas Costa\n",
      "137  222737  144           Malcom\n",
      "291  200641  144   Y. Konoplyanka\n",
      "303  190544  144        A. Ljajić\n",
      "\n",
      "Cat: 316\n",
      "         ID  cat            Name\n",
      "5    189509  316          Thiago\n",
      "18   197781  316            Isco\n",
      "31   192883  316   H. Mkhitaryan\n",
      "45   180403  316         Willian\n",
      "108  198164  316  Jonathan Viera\n",
      "\n",
      "Cat: 339\n",
      "         ID  cat           Name\n",
      "6    176635  339        M. Özil\n",
      "47   178088  339      Juan Mata\n",
      "56   204485  339      R. Mahrez\n",
      "64   189358  339      S. Kagawa\n",
      "121  184267  339     Y. Brahimi\n",
      "161  193165  339      J. Corona\n",
      "168  188988  339     M. Lanzini\n",
      "175  177326  339    M. Valbuena\n",
      "205  199434  339       D. Tadić\n",
      "216  192492  339    F. Orellana\n",
      "267  212150  339       M. Meyer\n",
      "293  199952  339       E. Çolak\n",
      "301  192565  339       Y. Mallı\n",
      "329  159171  339         Jurado\n",
      "358  212230  339  Iuri Medeiros\n",
      "\n",
      "Cat: 145\n",
      "         ID  cat        Name\n",
      "8    215914  145    N. Kanté\n",
      "35   170890  145  B. Matuidi\n",
      "60   193474  145    I. Gueye\n",
      "100  204277  145  Roque Mesa\n",
      "203  199914  145       Allan\n",
      "398  196432  145    E. Pérez\n",
      "482  191053  145   T. Rincón\n",
      "\n",
      "Cat: 156\n",
      "          ID  cat           Name\n",
      "9     199556  156    M. Verratti\n",
      "138   222028  156       J. Weigl\n",
      "335   137351  156       D. Baier\n",
      "348   222509  156  Dani Ceballos\n",
      "408   152996  156   P. Skjelbred\n",
      "513   140415  156     L. Britton\n",
      "522   184716  156       J. Allen\n",
      "531   226456  156  Pablo Fornals\n",
      "561   151508  156       S. Davis\n",
      "1004  230936  156        A. Nagy\n",
      "\n",
      "Cat: 249\n",
      "         ID  cat                 Name\n",
      "10   195864  249             P. Pogba\n",
      "46   179846  249           S. Khedira\n",
      "70   181783  249         M. Mandžukić\n",
      "74   162240  249           M. Dembélé\n",
      "83    20289  249             Y. Touré\n",
      "86   219683  249           C. Tolisso\n",
      "90   211575  249          André Gomes\n",
      "95   208421  249                 Saúl\n",
      "102  203483  249          D. Klaassen\n",
      "129  177413  249            A. Witsel\n",
      "145  210008  249            A. Rabiot\n",
      "149  202371  249           T. Meunier\n",
      "184  223848  249  S. Milinković-Savić\n",
      "204  199827  249         P. Hernández\n",
      "234  173909  249           K. Boateng\n",
      "270  211354  249           M. Benassi\n",
      "302  190875  249             J. Kucka\n",
      "391  199767  249        M. van Ginkel\n",
      "496  183394  249           M. Sissoko\n",
      "\n",
      "Cat: 233\n",
      "         ID  cat           Name\n",
      "11   190460  233     C. Eriksen\n",
      "15   168542  233    David Silva\n",
      "17   198710  233   J. Rodríguez\n",
      "23   189242  233       Coutinho\n",
      "24   188350  233        M. Reus\n",
      "36   220834  233  Marco Asensio\n",
      "39   202166  233     J. Draxler\n",
      "48   177388  233       D. Payet\n",
      "66   188152  233          Oscar\n",
      "69   184144  233      N. Gaitán\n",
      "79   139869  233    W. Sneijder\n",
      "124  183574  233       M. Kruse\n",
      "131  165239  233       S. Nasri\n",
      "163  192318  233       M. Götze\n",
      "169  188388  233   R. Boudebouz\n",
      "233  175379  233     Pedro León\n",
      "273  208128  233  H. Çalhanoğlu\n",
      "520  208008  233        Vitinho\n",
      "620  207412  233  Renan Bressan\n",
      "\n",
      "Cat: 299\n",
      "         ID  cat           Name\n",
      "12   181872  299       A. Vidal\n",
      "19   197445  299       D. Alaba\n",
      "20   191043  299    Alex Sandro\n",
      "25   178518  299  R. Nainggolan\n",
      "34   173210  299   C. Marchisio\n",
      "41   191740  299  Ander Herrera\n",
      "92   209658  299    L. Goretzka\n",
      "101  203551  299    A. Florenzi\n",
      "142  212622  299     J. Kimmich\n",
      "\n",
      "Position: def\n",
      "Model: kmeans_400\n",
      "\n",
      "Cat: 98\n",
      "         ID  cat            Name\n",
      "0    155862   98    Sergio Ramos\n",
      "6    164240   98    Thiago Silva\n",
      "12   179944   98      David Luiz\n",
      "21   172871   98   J. Vertonghen\n",
      "38   205600   98       S. Umtiti\n",
      "40   200888   98  Danilo Pereira\n",
      "51   159147   98       L. Perrin\n",
      "53   142754   98   J. Mascherano\n",
      "61   201862   98         M. Rojo\n",
      "86   198141   98          Bartra\n",
      "119  195861   98    Y. Rakitskyi\n",
      "127  185221   98    Luiz Gustavo\n",
      "145  124635   98        M. Topal\n",
      "207  165109   98         S. Radu\n",
      "211  142784   98     P. Zabaleta\n",
      "\n",
      "Cat: 240\n",
      "         ID  cat          Name\n",
      "1    138956  240  G. Chiellini\n",
      "16   120533  240          Pepe\n",
      "31   177509  240    M. Benatia\n",
      "43   192366  240   N. Otamendi\n",
      "77   220793  240    D. Sánchez\n",
      "95   189881  240   C. Smalling\n",
      "153  215051  240      L. López\n",
      "198  176285  240       W. Reid\n",
      "216  216778  240  Rúben Semedo\n",
      "234  198584  240      K. Mbodj\n",
      "\n",
      "Cat: 364\n",
      "         ID  cat             Name\n",
      "2    184344  364       L. Bonucci\n",
      "3    183907  364       J. Boateng\n",
      "5    178603  364       M. Hummels\n",
      "8    152729  364            Piqué\n",
      "11   184087  364  T. Alderweireld\n",
      "13   177610  364    Javi Martínez\n",
      "17   201535  364        R. Varane\n",
      "26   212218  364       A. Laporte\n",
      "39   203376  364      V. van Dijk\n",
      "42   197061  364         J. Matip\n",
      "60   202335  364          E. Dier\n",
      "68   178372  364      B. Ivanović\n",
      "69   171919  364            Naldo\n",
      "121  192641  364          K. Vogt\n",
      "\n",
      "Cat: 59\n",
      "         ID  cat              Name\n",
      "4    182493   59          D. Godín\n",
      "14   172879   59          Sokratis\n",
      "15   168609   59           Miranda\n",
      "25   225508   59         E. Bailly\n",
      "30   192227   59        S. Mustafi\n",
      "32   165229   59      L. Koscielny\n",
      "37   207865   59        Marquinhos\n",
      "45   186547   59      M. Musacchio\n",
      "46   185239   59         O. Toprak\n",
      "47   179784   59        B. Höwedes\n",
      "58   204525   59    Iñigo Martínez\n",
      "78   213661   59    A. Christensen\n",
      "81   207599   59          M. Keane\n",
      "84   200724   59   Nacho Fernández\n",
      "132  177458   59         S. Bender\n",
      "134  173432   59         H. Moreno\n",
      "166  203574   59         J. Stones\n",
      "171  201377   59        J. Murillo\n",
      "172  201305   59  Gabriel Paulista\n",
      "347  216266   59           K. Tete\n",
      "357  203485   59        T. Kongolo\n",
      "392  190520   59      T. Jantschke\n",
      "598  197786   59         G. Donati\n",
      "\n",
      "Cat: 392\n",
      "        ID  cat         Name\n",
      "7   176676  392      Marcelo\n",
      "9   197445  392     D. Alaba\n",
      "10  191043  392  Alex Sandro\n",
      "19  189332  392   Jordi Alba\n",
      "50  167905  392  A. Valencia\n",
      "59  203551  392  A. Florenzi\n",
      "87  197853  392    S. Aurier\n",
      "\n",
      "Position: gk\n",
      "Model: kmeans_400\n",
      "\n",
      "Cat: 102\n",
      "       ID  cat      Name\n",
      "0  167495  102  M. Neuer\n",
      "\n",
      "Cat: 387\n",
      "       ID  cat    Name\n",
      "1  193080  387  De Gea\n",
      "\n",
      "Cat: 89\n",
      "       ID  cat           Name\n",
      "2  192119   89    T. Courtois\n",
      "5  167948   89      H. Lloris\n",
      "6  162835   89  S. Handanovič\n",
      "\n",
      "Cat: 278\n",
      "       ID  cat       Name\n",
      "3    1179  278  G. Buffon\n",
      "4  200389  278   J. Oblak\n",
      "7   48940  278    P. Čech\n",
      "\n",
      "Cat: 305\n",
      "        ID  cat           Name\n",
      "8   193041  305       K. Navas\n",
      "10  192563  305        B. Leno\n",
      "14  189117  305       R. Bürki\n",
      "19  199482  305       A. Lopes\n",
      "27  230621  305  G. Donnarumma\n",
      "31  186153  305    W. Szczęsny\n",
      "37  163705  305    S. Mandanda\n",
      "\n",
      "Cat: 6\n",
      "        ID  cat         Name\n",
      "9   192593    6   D. Subašić\n",
      "12  167628    6   S. Ruffier\n",
      "28  206652    6  Sergio Rico\n",
      "30  188943    6     K. Trapp\n",
      "33  182494    6   F. Muslera\n",
      "39  158121    6    B. Costil\n",
      "\n",
      "Cat: 355\n",
      "        ID  cat           Name\n",
      "11  192448  355  M. ter Stegen\n",
      "13  200316  355        T. Horn\n",
      "22  177683  355      Y. Sommer\n",
      "25   24630  355     José Reina\n",
      "34  174543  355       C. Bravo\n"
     ]
    }
   ],
   "source": [
    "show_clusters(results_dict)"
   ]
  },
  {
   "cell_type": "code",
   "execution_count": null,
   "metadata": {},
   "outputs": [],
   "source": []
  }
 ],
 "metadata": {
  "kernelspec": {
   "display_name": "Python 3",
   "language": "python",
   "name": "python3"
  },
  "language_info": {
   "codemirror_mode": {
    "name": "ipython",
    "version": 3
   },
   "file_extension": ".py",
   "mimetype": "text/x-python",
   "name": "python",
   "nbconvert_exporter": "python",
   "pygments_lexer": "ipython3",
   "version": "3.6.5"
  }
 },
 "nbformat": 4,
 "nbformat_minor": 2
}
