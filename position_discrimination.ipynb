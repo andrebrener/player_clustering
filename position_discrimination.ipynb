{
 "cells": [
  {
   "cell_type": "markdown",
   "metadata": {},
   "source": [
    "## Import Dependencies"
   ]
  },
  {
   "cell_type": "code",
   "execution_count": null,
   "metadata": {},
   "outputs": [],
   "source": [
    "from sklearn import cluster\n",
    "import pandas as pd\n",
    "import numpy as np\n",
    "from sklearn.metrics.cluster import normalized_mutual_info_score\n",
    "from sklearn.metrics.cluster import adjusted_rand_score"
   ]
  },
  {
   "cell_type": "code",
   "execution_count": null,
   "metadata": {},
   "outputs": [],
   "source": [
    "df = pd.read_csv('CompleteDataset.csv').fillna(0)"
   ]
  },
  {
   "cell_type": "markdown",
   "metadata": {},
   "source": [
    "## Build dataset"
   ]
  },
  {
   "cell_type": "markdown",
   "metadata": {},
   "source": [
    "#### Take a look at the initial dataset"
   ]
  },
  {
   "cell_type": "code",
   "execution_count": null,
   "metadata": {},
   "outputs": [],
   "source": [
    "df.head()"
   ]
  },
  {
   "cell_type": "markdown",
   "metadata": {},
   "source": [
    "#### Check for duplicates"
   ]
  },
  {
   "cell_type": "code",
   "execution_count": null,
   "metadata": {},
   "outputs": [],
   "source": [
    "df['ID'].value_counts().head()"
   ]
  },
  {
   "cell_type": "markdown",
   "metadata": {},
   "source": [
    "#### Remove duplicates"
   ]
  },
  {
   "cell_type": "code",
   "execution_count": null,
   "metadata": {},
   "outputs": [],
   "source": [
    "df.drop(df.columns[0],axis=1,inplace=True)"
   ]
  },
  {
   "cell_type": "code",
   "execution_count": null,
   "metadata": {},
   "outputs": [],
   "source": [
    "df.shape"
   ]
  },
  {
   "cell_type": "code",
   "execution_count": null,
   "metadata": {},
   "outputs": [],
   "source": [
    "df = df.drop_duplicates()"
   ]
  },
  {
   "cell_type": "code",
   "execution_count": null,
   "metadata": {},
   "outputs": [],
   "source": [
    "df['ID'].value_counts().head()"
   ]
  },
  {
   "cell_type": "code",
   "execution_count": null,
   "metadata": {},
   "outputs": [],
   "source": [
    "df.shape"
   ]
  },
  {
   "cell_type": "code",
   "execution_count": null,
   "metadata": {},
   "outputs": [],
   "source": [
    "df.columns"
   ]
  },
  {
   "cell_type": "code",
   "execution_count": null,
   "metadata": {},
   "outputs": [],
   "source": [
    "df['pref_pos'] = df['Preferred Positions'].str.split()"
   ]
  },
  {
   "cell_type": "markdown",
   "metadata": {},
   "source": [
    "#### Names + id"
   ]
  },
  {
   "cell_type": "code",
   "execution_count": null,
   "metadata": {},
   "outputs": [],
   "source": [
    "players_df = df[['Name', 'ID']]"
   ]
  },
  {
   "cell_type": "markdown",
   "metadata": {},
   "source": [
    "#### Create positions dictionary"
   ]
  },
  {
   "cell_type": "code",
   "execution_count": null,
   "metadata": {},
   "outputs": [],
   "source": [
    "pos_dict = {\n",
    "    'fw': ['ST', 'LW', 'RW', 'SS'],\n",
    "    'gk': ['GK'],\n",
    "    'mf': ['DM', 'CM', 'CDM', 'CAM', 'RM', 'LM',],\n",
    "    'def': ['CB', 'RB', 'LB', 'RWB', 'LWB']\n",
    "}"
   ]
  },
  {
   "cell_type": "markdown",
   "metadata": {},
   "source": [
    "#### Insert positions"
   ]
  },
  {
   "cell_type": "code",
   "execution_count": null,
   "metadata": {},
   "outputs": [],
   "source": [
    "def get_positions(pos_list, pos_dict_list):\n",
    "    for pos in pos_dict_list:\n",
    "        if pos in pos_list:\n",
    "            return 1"
   ]
  },
  {
   "cell_type": "code",
   "execution_count": null,
   "metadata": {},
   "outputs": [],
   "source": [
    "def insert_positions(df, pos_dict):\n",
    "    for pos, pos_dict_list in pos_dict.items():\n",
    "        df[pos] = df['pref_pos'].apply(lambda x: get_positions(x, pos_dict_list)).fillna(0)"
   ]
  },
  {
   "cell_type": "code",
   "execution_count": null,
   "metadata": {},
   "outputs": [],
   "source": [
    "insert_positions(df, pos_dict)"
   ]
  },
  {
   "cell_type": "code",
   "execution_count": null,
   "metadata": {},
   "outputs": [],
   "source": [
    "df[['pref_pos', 'fw', 'gk', 'mf', 'def']].head()"
   ]
  },
  {
   "cell_type": "markdown",
   "metadata": {},
   "source": [
    "#### Define stats for each position"
   ]
  },
  {
   "cell_type": "code",
   "execution_count": null,
   "metadata": {},
   "outputs": [],
   "source": [
    "global_stats = ['CAM', 'CB', 'CDM', 'CF', 'CM',\n",
    "       'LAM', 'LB', 'LCB', 'LCM', 'LDM', 'LF', 'LM', 'LS', 'LW', 'LWB',\n",
    "       'RAM', 'RB', 'RCB', 'RCM', 'RDM', 'RF', 'RM',\n",
    "       'RS', 'RW', 'RWB', 'ST']"
   ]
  },
  {
   "cell_type": "code",
   "execution_count": null,
   "metadata": {},
   "outputs": [],
   "source": [
    "stats_dict = {}\n",
    "\n",
    "stats_dict['fw'] = [\n",
    "    'Acceleration', 'Aggression', 'Agility', 'Balance', 'Ball control', 'Composure', 'Curve', 'Dribbling', \n",
    "    'Finishing', 'Heading accuracy', 'Jumping', 'Long shots','Positioning', 'Crossing', 'Long passing', \n",
    "    'Shot power', 'Sprint speed', 'Stamina', 'Strength', 'Vision'\n",
    "]\n",
    "\n",
    "stats_dict['mf'] = [\n",
    "    'Acceleration', 'Aggression', 'Agility', 'Balance', 'Ball control', 'Composure', 'Curve', 'Dribbling',\n",
    "    'Long shots', 'Positioning', 'Crossing', 'Long passing', 'Shot power', 'Sprint speed', 'Stamina', \n",
    "    'Strength', 'Vision', 'Sliding tackle', 'Standing tackle', 'Marking'\n",
    "]\n",
    "\n",
    "stats_dict['def'] = [\n",
    "    'Acceleration', 'Aggression', 'Agility', 'Balance', 'Ball control', 'Positioning', 'Long passing',\n",
    "    'Sprint speed', 'Stamina', 'Strength', 'Vision', 'Sliding tackle', 'Standing tackle', 'Marking',\n",
    "    'Jumping', 'Heading accuracy'\n",
    "]\n",
    "\n",
    "stats_dict['gk'] = [col for col in df.columns if 'GK' in col] + ['Reactions', 'Volleys']"
   ]
  },
  {
   "cell_type": "markdown",
   "metadata": {},
   "source": [
    "#### Get dict with positions dfs"
   ]
  },
  {
   "cell_type": "code",
   "execution_count": null,
   "metadata": {},
   "outputs": [],
   "source": [
    "df_dict = {}\n",
    "\n",
    "for pos, pos_stats in stats_dict.items():\n",
    "    cols = ['ID'] + pos_stats + global_stats\n",
    "    df_dict[pos] = df[df[pos] > 0][cols].set_index('ID').fillna(0)"
   ]
  },
  {
   "cell_type": "markdown",
   "metadata": {},
   "source": [
    "#### Clean dataset"
   ]
  },
  {
   "cell_type": "code",
   "execution_count": null,
   "metadata": {},
   "outputs": [],
   "source": [
    "def remove_signs(val):\n",
    "    if isinstance(val, int) or isinstance(val, float):\n",
    "        return val\n",
    "    if '+' in val:\n",
    "        vals = val.split('+')\n",
    "        return int(vals[0]) + int(vals[1])\n",
    "    elif '-' in val:\n",
    "        vals = val.split('-')\n",
    "        return int(vals[0]) + int(vals[1])\n",
    "    else:\n",
    "        return int(val)"
   ]
  },
  {
   "cell_type": "code",
   "execution_count": null,
   "metadata": {},
   "outputs": [],
   "source": [
    "for pos, pos_df in df_dict.items():\n",
    "    print(pos, pos_df.shape[0])\n",
    "    for col in pos_df.columns:\n",
    "        pos_df[col] = pos_df[col].apply(remove_signs)"
   ]
  },
  {
   "cell_type": "markdown",
   "metadata": {},
   "source": [
    "## Model"
   ]
  },
  {
   "cell_type": "code",
   "execution_count": null,
   "metadata": {},
   "outputs": [],
   "source": [
    "algorithms = {}"
   ]
  },
  {
   "cell_type": "markdown",
   "metadata": {},
   "source": [
    "###### K-means"
   ]
  },
  {
   "cell_type": "code",
   "execution_count": null,
   "metadata": {},
   "outputs": [],
   "source": [
    "k = 400"
   ]
  },
  {
   "cell_type": "code",
   "execution_count": null,
   "metadata": {},
   "outputs": [],
   "source": [
    "algorithms['kmeans_{}'.format(k)] = cluster.KMeans(n_clusters=k)"
   ]
  },
  {
   "cell_type": "code",
   "execution_count": null,
   "metadata": {},
   "outputs": [],
   "source": [
    "#for k in range(10, 110, 10):\n",
    "#    algorithms['kmeans_{}'.format(k)] = cluster.KMeans(n_clusters=k)\n",
    "#    algorithms['agglom_{}'.format(k)] = cluster.AgglomerativeClustering(n_clusters=k)\n",
    "#    algorithms['spectral_{}'.format(k)] = cluster.SpectralClustering(n_clusters=k)"
   ]
  },
  {
   "cell_type": "code",
   "execution_count": null,
   "metadata": {},
   "outputs": [],
   "source": [
    "#for d in np.arange(0.5, 1.05, 0.1):\n",
    "#    algorithms['affinity_{}'.format(d)] = cluster.AffinityPropagation(damping=0.6)"
   ]
  },
  {
   "cell_type": "markdown",
   "metadata": {},
   "source": [
    "#### Models"
   ]
  },
  {
   "cell_type": "code",
   "execution_count": null,
   "metadata": {},
   "outputs": [],
   "source": [
    "def run_models(df_dict):\n",
    "    results_dict = {}\n",
    "    for pos, pos_df in df_dict.items():\n",
    "        print('\\nPosition: {}'.format(pos))\n",
    "        mat = pos_df.values\n",
    "        results_dict[pos] = {}\n",
    "        for model, clf in algorithms.items():\n",
    "            print(model)\n",
    "            clf.fit(mat)\n",
    "            res_df = pd.DataFrame([pos_df.index, clf.labels_]).T\n",
    "            res_df.columns = ['ID', 'cat']\n",
    "            final_df = pd.merge(res_df, players_df)\n",
    "            results_dict[pos][model] = final_df\n",
    "    return results_dict"
   ]
  },
  {
   "cell_type": "code",
   "execution_count": null,
   "metadata": {},
   "outputs": [],
   "source": [
    "results_dict = run_models(df_dict)"
   ]
  },
  {
   "cell_type": "markdown",
   "metadata": {},
   "source": [
    "## Results"
   ]
  },
  {
   "cell_type": "code",
   "execution_count": null,
   "metadata": {},
   "outputs": [],
   "source": [
    "def show_clusters(results_dict, max_cat=15):\n",
    "    for pos, model_dict in results_dict.items():\n",
    "        print('\\nPosition: {}'.format(pos))\n",
    "        for model, model_df in model_dict.items():\n",
    "            print('Model: {}'.format(model))\n",
    "            main_cats = model_df.head(max_cat)['cat'].unique()\n",
    "            for c in main_cats:\n",
    "                print('\\nCat: {}'.format(c))\n",
    "                print(model_df[model_df['cat'] == c])"
   ]
  },
  {
   "cell_type": "code",
   "execution_count": null,
   "metadata": {
    "scrolled": false
   },
   "outputs": [],
   "source": [
    "show_clusters(results_dict)"
   ]
  },
  {
   "cell_type": "code",
   "execution_count": null,
   "metadata": {},
   "outputs": [],
   "source": []
  }
 ],
 "metadata": {
  "kernelspec": {
   "display_name": "Python 3",
   "language": "python",
   "name": "python3"
  },
  "language_info": {
   "codemirror_mode": {
    "name": "ipython",
    "version": 3
   },
   "file_extension": ".py",
   "mimetype": "text/x-python",
   "name": "python",
   "nbconvert_exporter": "python",
   "pygments_lexer": "ipython3",
   "version": "3.6.5"
  }
 },
 "nbformat": 4,
 "nbformat_minor": 2
}
